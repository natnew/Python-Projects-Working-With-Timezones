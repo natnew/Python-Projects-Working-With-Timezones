{
  "nbformat": 4,
  "nbformat_minor": 0,
  "metadata": {
    "colab": {
      "name": "Datetime.ipynb",
      "provenance": [],
      "collapsed_sections": [],
      "authorship_tag": "ABX9TyMJ9dhmKTNUeGHwUfm0mLFC",
      "include_colab_link": true
    },
    "kernelspec": {
      "name": "python3",
      "display_name": "Python 3"
    },
    "language_info": {
      "name": "python"
    }
  },
  "cells": [
    {
      "cell_type": "markdown",
      "metadata": {
        "id": "view-in-github",
        "colab_type": "text"
      },
      "source": [
        "<a href=\"https://colab.research.google.com/github/natnew/Python-Projects-Working-With-Timezones/blob/main/Datetime.ipynb\" target=\"_parent\"><img src=\"https://colab.research.google.com/assets/colab-badge.svg\" alt=\"Open In Colab\"/></a>"
      ]
    },
    {
      "cell_type": "code",
      "metadata": {
        "id": "oo2odfHkIxGr"
      },
      "source": [
        "import datetime\n"
      ],
      "execution_count": 1,
      "outputs": []
    },
    {
      "cell_type": "markdown",
      "metadata": {
        "id": "JxDzIhKIJGjf"
      },
      "source": [
        "# Get the current date and time with different timezones"
      ]
    },
    {
      "cell_type": "code",
      "metadata": {
        "colab": {
          "base_uri": "https://localhost:8080/"
        },
        "id": "Ce_t-kyeI1fO",
        "outputId": "ccf84c33-a3e8-480c-f927-efb3bf648508"
      },
      "source": [
        "print('Get the current date and time with different timzones:')\n",
        "\n",
        "datetime_object = datetime.datetime.now()\n",
        "print(datetime_object)\n",
        "print(\"Year: \", datetime_object.year)\n",
        "print(\"Month: \", datetime_object.month)\n",
        "print(\"Dat: \", datetime_object.day)\n",
        "print(\"Hour: \", datetime_object.hour)\n",
        "print(\"Minute: \", datetime_object.minute)\n",
        "print(\"Second: \", datetime_object.second)\n",
        "print(\"TimeZone info: \", datetime_object.tzinfo)"
      ],
      "execution_count": 4,
      "outputs": [
        {
          "output_type": "stream",
          "name": "stdout",
          "text": [
            "Get the current date and time with different timzones:\n",
            "2021-10-01 18:35:50.096306\n",
            "Year:  2021\n",
            "Month:  10\n",
            "Dat:  1\n",
            "Hour:  18\n",
            "Minute:  35\n",
            "Second:  50\n",
            "TimeZone info:  None\n"
          ]
        }
      ]
    },
    {
      "cell_type": "markdown",
      "metadata": {
        "id": "-4rJeXjMJLNS"
      },
      "source": [
        "# Make it zone aware"
      ]
    },
    {
      "cell_type": "code",
      "metadata": {
        "colab": {
          "base_uri": "https://localhost:8080/"
        },
        "id": "ITboP2otPQOs",
        "outputId": "fd2252a9-9f36-4431-e06b-8daec32dc501"
      },
      "source": [
        "datetime_object = datetime.datetime.now()\n",
        "\n",
        "\n",
        "datetime_object = datetime_object.replace(tzinfo=datetime.timezone.utc)\n",
        "print(datetime_object)\n",
        "print(\"Year: \", datetime_object.year)\n",
        "print(\"Month: \", datetime_object.month)\n",
        "print(\"Dat: \", datetime_object.day)\n",
        "print(\"Hour: \", datetime_object.hour)\n",
        "print(\"Minute: \", datetime_object.minute)\n",
        "print(\"Second: \", datetime_object.second)\n",
        "print(\"TimeZone info: \", datetime_object.tzinfo)"
      ],
      "execution_count": 6,
      "outputs": [
        {
          "output_type": "stream",
          "name": "stdout",
          "text": [
            "2021-10-01 19:03:39.294239+00:00\n",
            "Year:  2021\n",
            "Month:  10\n",
            "Dat:  1\n",
            "Hour:  19\n",
            "Minute:  3\n",
            "Second:  39\n",
            "TimeZone info:  UTC\n"
          ]
        }
      ]
    },
    {
      "cell_type": "markdown",
      "metadata": {
        "id": "EvtyBjbDSBhX"
      },
      "source": [
        "# Python pytz"
      ]
    },
    {
      "cell_type": "code",
      "metadata": {
        "colab": {
          "base_uri": "https://localhost:8080/"
        },
        "id": "h3hzauLyR_Re",
        "outputId": "ac2fbe7d-a12b-4b8f-8601-d3c80ad5badb"
      },
      "source": [
        "import pytz\n",
        "# print(pytz.all_timezones_set)\n",
        "\n",
        "new_timezone = pytz.timezone('Europe/Madrid')\n",
        "datetime_object = datetime.datetime.now(tz=new_timezone)\n",
        "# print(datetime_object)\n",
        "print(\"Year: \", datetime_object.year)\n",
        "print(\"Month: \", datetime_object.month)\n",
        "print(\"Dat: \", datetime_object.day)\n",
        "print(\"Hour: \", datetime_object.hour)\n",
        "print(\"Minute: \", datetime_object.minute)\n",
        "print(\"Second: \", datetime_object.second)\n",
        "print(\"TimeZone info: \", datetime_object.tzinfo)\n",
        "print(datetime_object.isoformat())"
      ],
      "execution_count": 7,
      "outputs": [
        {
          "output_type": "stream",
          "name": "stdout",
          "text": [
            "Year:  2021\n",
            "Month:  10\n",
            "Dat:  1\n",
            "Hour:  21\n",
            "Minute:  15\n",
            "Second:  0\n",
            "TimeZone info:  Europe/Madrid\n",
            "2021-10-01T21:15:00.956426+02:00\n"
          ]
        }
      ]
    },
    {
      "cell_type": "code",
      "metadata": {
        "id": "YT25xsaaSRcM"
      },
      "source": [
        "import pytz\n",
        "# print(pytz.all_timezones_set)\n",
        "\n",
        "new_timezone = pytz.timezone('Europe/Madrid')\n",
        "datetime_object = datetime.datetime.now(tz=new_timezone)\n",
        "# print(datetime_object)\n",
        "print(\"Year: \", datetime_object.year)\n",
        "print(\"Month: \", datetime_object.month)\n",
        "print(\"Dat: \", datetime_object.day)\n",
        "print(\"Hour: \", datetime_object.hour)\n",
        "print(\"Minute: \", datetime_object.minute)\n",
        "print(\"Second: \", datetime_object.second)\n",
        "print(\"TimeZone info: \", datetime_object.tzinfo)\n",
        "print(datetime_object.isoformat())"
      ],
      "execution_count": null,
      "outputs": []
    },
    {
      "cell_type": "markdown",
      "metadata": {
        "id": "tiTuE4SgSqIv"
      },
      "source": [
        "# Getting current date only"
      ]
    },
    {
      "cell_type": "code",
      "metadata": {
        "colab": {
          "base_uri": "https://localhost:8080/"
        },
        "id": "_9qGfXwFStOP",
        "outputId": "5b156766-0d9c-4f18-d4ec-edc95b648a25"
      },
      "source": [
        "#In []:\n",
        "day = datetime.date.today()\n",
        "print(day)"
      ],
      "execution_count": 10,
      "outputs": [
        {
          "output_type": "stream",
          "name": "stdout",
          "text": [
            "2021-10-01\n"
          ]
        }
      ]
    },
    {
      "cell_type": "markdown",
      "metadata": {
        "id": "XntF5lFVTDc8"
      },
      "source": [
        "# Creating a date object for specific date"
      ]
    },
    {
      "cell_type": "code",
      "metadata": {
        "colab": {
          "base_uri": "https://localhost:8080/"
        },
        "id": "zfbRqLNuTJ58",
        "outputId": "65313410-71ee-414d-f8df-8c9356341411"
      },
      "source": [
        "#In [ ]:\n",
        "day = datetime.date(2020, 8, 23)\n",
        "print(day)"
      ],
      "execution_count": 13,
      "outputs": [
        {
          "output_type": "stream",
          "name": "stdout",
          "text": [
            "2020-08-23\n"
          ]
        }
      ]
    },
    {
      "cell_type": "code",
      "metadata": {
        "colab": {
          "base_uri": "https://localhost:8080/"
        },
        "id": "jZb-TtKRTSyJ",
        "outputId": "1544e386-cb0f-4dc0-94e7-0b7e250b6238"
      },
      "source": [
        "#In [ ]:\n",
        "day = datetime.date(2010, 1, 19)\n",
        "print(day)"
      ],
      "execution_count": 15,
      "outputs": [
        {
          "output_type": "stream",
          "name": "stdout",
          "text": [
            "2010-01-19\n"
          ]
        }
      ]
    },
    {
      "cell_type": "markdown",
      "metadata": {
        "id": "7EYSZwwzTfu9"
      },
      "source": [
        "# Getting a date from a timestamp"
      ]
    },
    {
      "cell_type": "code",
      "metadata": {
        "colab": {
          "base_uri": "https://localhost:8080/"
        },
        "id": "RMtLQ312TkWX",
        "outputId": "653e48f3-d22e-4966-8241-ea0b74787462"
      },
      "source": [
        "\n",
        "timestamp = 1629516295\n",
        "datetime_object = datetime.datetime.fromtimestamp(timestamp)\n",
        "# We also know that Unix timestamps are in UTC so we might as well \n",
        "# add the timezone info to our object.\n",
        "datetime_object = datetime_object.replace(tzinfo=datetime.timezone.utc)\n",
        "print(datetime_object)\n",
        "print(\"Year: \", datetime_object.year)\n",
        "print(\"Month: \", datetime_object.month)\n",
        "print(\"Dat: \", datetime_object.day)\n",
        "print(\"Hour: \", datetime_object.hour)\n",
        "print(\"Minute: \", datetime_object.minute)\n",
        "print(\"Second: \", datetime_object.second)\n",
        "print(\"TimeZone info: \", datetime_object.tzinfo)"
      ],
      "execution_count": 17,
      "outputs": [
        {
          "output_type": "stream",
          "name": "stdout",
          "text": [
            "2021-08-21 03:24:55+00:00\n",
            "Year:  2021\n",
            "Month:  8\n",
            "Dat:  21\n",
            "Hour:  3\n",
            "Minute:  24\n",
            "Second:  55\n",
            "TimeZone info:  UTC\n"
          ]
        }
      ]
    },
    {
      "cell_type": "markdown",
      "metadata": {
        "id": "PPkuaK60VTlO"
      },
      "source": [
        "# Generating a timestamp from a datetime object"
      ]
    },
    {
      "cell_type": "code",
      "metadata": {
        "colab": {
          "base_uri": "https://localhost:8080/"
        },
        "id": "_7SM9epoVXvM",
        "outputId": "58d6fe68-4ef3-4a3c-92af-4056ffd6756b"
      },
      "source": [
        "\n",
        "datetime_object = datetime.datetime.now()\n",
        "print(\"Timestamp: \", datetime_object.timestamp())"
      ],
      "execution_count": 18,
      "outputs": [
        {
          "output_type": "stream",
          "name": "stdout",
          "text": [
            "Timestamp:  1633116597.226981\n"
          ]
        }
      ]
    },
    {
      "cell_type": "markdown",
      "metadata": {
        "id": "LHsmzjLFWK0r"
      },
      "source": [
        " Get the current timestamp"
      ]
    },
    {
      "cell_type": "code",
      "metadata": {
        "colab": {
          "base_uri": "https://localhost:8080/"
        },
        "id": "-vx_EKciV3_t",
        "outputId": "18afd234-fc73-464c-91ec-d6e438d3dfb5"
      },
      "source": [
        "timestamp = 1633116597.226981\n",
        "datetime_object = datetime.datetime.fromtimestamp(timestamp)\n",
        "# We also know that Unix timestamps are in UTC so we might as well \n",
        "# add the timezone info to our object.\n",
        "datetime_object = datetime_object.replace(tzinfo=datetime.timezone.utc)\n",
        "print(datetime_object)\n",
        "print(\"Year: \", datetime_object.year)\n",
        "print(\"Month: \", datetime_object.month)\n",
        "print(\"Dat: \", datetime_object.day)\n",
        "print(\"Hour: \", datetime_object.hour)\n",
        "print(\"Minute: \", datetime_object.minute)\n",
        "print(\"Second: \", datetime_object.second)\n",
        "print(\"TimeZone info: \", datetime_object.tzinfo)"
      ],
      "execution_count": 19,
      "outputs": [
        {
          "output_type": "stream",
          "name": "stdout",
          "text": [
            "2021-10-01 19:29:57.226981+00:00\n",
            "Year:  2021\n",
            "Month:  10\n",
            "Dat:  1\n",
            "Hour:  19\n",
            "Minute:  29\n",
            "Second:  57\n",
            "TimeZone info:  UTC\n"
          ]
        }
      ]
    },
    {
      "cell_type": "markdown",
      "metadata": {
        "id": "H9PA5_vJV-7W"
      },
      "source": [
        "# Python timedelta"
      ]
    },
    {
      "cell_type": "markdown",
      "metadata": {
        "id": "hVqckyGsWhk8"
      },
      "source": [
        "Count the number of days between 24-07-2020 and 26-03-2021."
      ]
    },
    {
      "cell_type": "code",
      "metadata": {
        "colab": {
          "base_uri": "https://localhost:8080/"
        },
        "id": "6f69nyWBWCVr",
        "outputId": "6f7146c7-6deb-4c6d-d2ad-7651b2396a99"
      },
      "source": [
        "start_date = datetime.date(2020, 7, 24)\n",
        "end_date = datetime.date(2021, 3, 26)\n",
        "\n",
        "# We can simply just subtract these two objects and the result would be\n",
        "# a timedelta object\n",
        "\n",
        "timedelta = end_date - start_date\n",
        "print(type(timedelta))\n",
        "print(\"Day difference: \", timedelta.days)"
      ],
      "execution_count": 20,
      "outputs": [
        {
          "output_type": "stream",
          "name": "stdout",
          "text": [
            "<class 'datetime.timedelta'>\n",
            "Day difference:  245\n"
          ]
        }
      ]
    },
    {
      "cell_type": "markdown",
      "metadata": {
        "id": "A3POnFsPWQxh"
      },
      "source": [
        "Represent difference between two dates or times"
      ]
    },
    {
      "cell_type": "markdown",
      "metadata": {
        "id": "sLIfaDolWiv0"
      },
      "source": [
        "Count the number of days between 10-01-2010 and 10-01-2021."
      ]
    },
    {
      "cell_type": "code",
      "metadata": {
        "colab": {
          "base_uri": "https://localhost:8080/"
        },
        "id": "4jiqRMPCWpIW",
        "outputId": "fd7ba0d5-54bb-42c4-e2d0-4453534dfb9a"
      },
      "source": [
        "start_date = datetime.date(2010, 1, 10)\n",
        "end_date = datetime.date(2021, 1, 10)\n",
        "\n",
        "# We can simply just subtract these two objects and the result would be\n",
        "# a timedelta object\n",
        "\n",
        "timedelta = end_date - start_date\n",
        "print(type(timedelta))\n",
        "print(\"Day difference: \", timedelta.days)"
      ],
      "execution_count": 21,
      "outputs": [
        {
          "output_type": "stream",
          "name": "stdout",
          "text": [
            "<class 'datetime.timedelta'>\n",
            "Day difference:  4018\n"
          ]
        }
      ]
    },
    {
      "cell_type": "markdown",
      "metadata": {
        "id": "MoFb82nuXIHu"
      },
      "source": [
        "Estimate the date from today's date."
      ]
    },
    {
      "cell_type": "markdown",
      "metadata": {
        "id": "cAxgDnGeYRg6"
      },
      "source": [
        "28 days from today"
      ]
    },
    {
      "cell_type": "code",
      "metadata": {
        "colab": {
          "base_uri": "https://localhost:8080/"
        },
        "id": "UAfIiyN2XO2v",
        "outputId": "ae10d0d9-b01d-4550-f1c9-c632f2ac1295"
      },
      "source": [
        "today = datetime.date.today()\n",
        "\n",
        "timedelta_needed = datetime.timedelta(days=28)\n",
        "\n",
        "result_date = today + timedelta_needed\n",
        "\n",
        "print(result_date)"
      ],
      "execution_count": 22,
      "outputs": [
        {
          "output_type": "stream",
          "name": "stdout",
          "text": [
            "2021-10-29\n"
          ]
        }
      ]
    },
    {
      "cell_type": "markdown",
      "metadata": {
        "id": "oG-v2yCRYUQa"
      },
      "source": [
        "10 days from today"
      ]
    },
    {
      "cell_type": "code",
      "metadata": {
        "colab": {
          "base_uri": "https://localhost:8080/"
        },
        "id": "qvcBAyh2YKFF",
        "outputId": "c945122a-285f-4329-9542-adee8e48d05a"
      },
      "source": [
        "today = datetime.date.today()\n",
        "\n",
        "timedelta_needed = datetime.timedelta(days=10)\n",
        "\n",
        "result_date = today + timedelta_needed\n",
        "\n",
        "print(result_date)"
      ],
      "execution_count": 23,
      "outputs": [
        {
          "output_type": "stream",
          "name": "stdout",
          "text": [
            "2021-10-11\n"
          ]
        }
      ]
    },
    {
      "cell_type": "markdown",
      "metadata": {
        "id": "9FhGZmOnYXTs"
      },
      "source": [
        "5 days from today"
      ]
    },
    {
      "cell_type": "code",
      "metadata": {
        "colab": {
          "base_uri": "https://localhost:8080/"
        },
        "id": "9C5eLHngYbVu",
        "outputId": "641772bc-6356-4d67-b8d9-809d3952319f"
      },
      "source": [
        "today = datetime.date.today()\n",
        "\n",
        "timedelta_needed = datetime.timedelta(days=5)\n",
        "\n",
        "result_date = today + timedelta_needed\n",
        "\n",
        "print(result_date)"
      ],
      "execution_count": 24,
      "outputs": [
        {
          "output_type": "stream",
          "name": "stdout",
          "text": [
            "2021-10-06\n"
          ]
        }
      ]
    },
    {
      "cell_type": "markdown",
      "metadata": {
        "id": "5VJ213QfYzXd"
      },
      "source": [
        "# Python strftime()"
      ]
    },
    {
      "cell_type": "markdown",
      "metadata": {
        "id": "MhVZZaX_eyhx"
      },
      "source": [
        "Format dates"
      ]
    },
    {
      "cell_type": "code",
      "metadata": {
        "colab": {
          "base_uri": "https://localhost:8080/"
        },
        "id": "R9AsG1AAY4OU",
        "outputId": "ba806db5-51e9-4bca-e83d-3ffdcd18cdc0"
      },
      "source": [
        "# current date and time\n",
        "now = datetime.datetime.now(tz=pytz.timezone('UTC'))\n",
        "\n",
        "t = now.strftime(\"%H:%M:%S\")\n",
        "print(\"time:\", t)\n",
        "\n",
        "s1 = now.strftime(\"%m/%d/%Y, %H:%M:%S\")\n",
        "# mm/dd/YY H:M:S format\n",
        "print(\"mm/dd/YY:\", s1)\n",
        "\n",
        "s2 = now.strftime(\"%d/%m/%Y, %H:%M:%S\")\n",
        "# dd/mm/YY H:M:S format\n",
        "print(\"dd/mm/YY:\", s2)\n",
        "\n",
        "# Timezone\n",
        "print(\"Timezone: \", now.strftime(\"%Z\"))\n",
        "\n",
        "# Weekday\n",
        "print(\"Weekday: \", now.strftime(\"%A\"))\n",
        "\n",
        "# Abbreviated weekday\n",
        "print(\"Abbreviated Weekday: \", now.strftime(\"%a\"))\n",
        "\n",
        "\n",
        "# Locale's appropriate date and time representation\n",
        "print(\"Locale representation: \", now.strftime(\"%c\"))"
      ],
      "execution_count": 25,
      "outputs": [
        {
          "output_type": "stream",
          "name": "stdout",
          "text": [
            "time: 20:02:08\n",
            "mm/dd/YY: 10/01/2021, 20:02:08\n",
            "dd/mm/YY: 01/10/2021, 20:02:08\n",
            "Timezone:  UTC\n",
            "Weekday:  Friday\n",
            "Abbreviated Weekday:  Fri\n",
            "Locale representation:  Fri Oct  1 20:02:08 2021\n"
          ]
        }
      ]
    },
    {
      "cell_type": "markdown",
      "metadata": {
        "id": "EAPH6VJle0UL"
      },
      "source": [
        "# Python strptime()"
      ]
    },
    {
      "cell_type": "markdown",
      "metadata": {
        "id": "N7uenvwle4Wr"
      },
      "source": [
        "Converts a string into a datetime object"
      ]
    },
    {
      "cell_type": "code",
      "metadata": {
        "colab": {
          "base_uri": "https://localhost:8080/"
        },
        "id": "2fOAug1pe8wW",
        "outputId": "b8c884a5-2fe6-4b90-8055-21b6fd74d54b"
      },
      "source": [
        "import datetime\n",
        "datetime_string = '08/23/21 15:23:52'\n",
        "\n",
        "datetime_object = datetime.datetime.strptime(datetime_string, '%m/%d/%y %H:%M:%S')\n",
        "print(type(datetime_object))\n",
        "print(datetime_object)"
      ],
      "execution_count": 26,
      "outputs": [
        {
          "output_type": "stream",
          "name": "stdout",
          "text": [
            "<class 'datetime.datetime'>\n",
            "2021-08-23 15:23:52\n"
          ]
        }
      ]
    },
    {
      "cell_type": "code",
      "metadata": {
        "colab": {
          "base_uri": "https://localhost:8080/"
        },
        "id": "OcuZXdzDfKEA",
        "outputId": "740a68e2-8aec-434b-badb-33ae3617fa53"
      },
      "source": [
        "datetime_string = '08/23/21 15:23:52'\n",
        "\n",
        "date_object = datetime.datetime.strptime(datetime_string, '%m/%d/%y %H:%M:%S').date()\n",
        "\n",
        "print(type(date_object))\n",
        "print(date_object)\n",
        "\n",
        "time_object = datetime.datetime.strptime(datetime_string, '%m/%d/%y %H:%M:%S').time()\n",
        "print(type(time_object))\n",
        "print(time_object)\n",
        "\n",
        "# Notice below how the time representation has changed from the above example\n",
        "# and that we now have a double colons. Observe how will we adjust the format\n",
        "# of the strptime method so as to correctly parse the input string.\n",
        "time_example = '15::23::26'\n",
        "time_example_object = datetime.datetime.strptime(time_example, '%H::%M::%S')\n",
        "print(type(time_example_object))\n",
        "print(time_example_object)"
      ],
      "execution_count": 27,
      "outputs": [
        {
          "output_type": "stream",
          "name": "stdout",
          "text": [
            "<class 'datetime.date'>\n",
            "2021-08-23\n",
            "<class 'datetime.time'>\n",
            "15:23:52\n",
            "<class 'datetime.datetime'>\n",
            "1900-01-01 15:23:26\n"
          ]
        }
      ]
    }
  ]
}